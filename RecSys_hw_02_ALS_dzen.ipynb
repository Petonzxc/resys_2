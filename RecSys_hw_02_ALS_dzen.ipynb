{
 "cells": [
  {
   "cell_type": "markdown",
   "id": "aaf10263",
   "metadata": {},
   "source": [
    "# ALS applications"
   ]
  },
  {
   "cell_type": "markdown",
   "id": "b7468264",
   "metadata": {},
   "source": [
    "## Dzen dataset\n",
    "\n",
    "Data comes from [dzen.ru](https://dzen.ru/) site and consists of likes which users put to text articles\n",
    "\n",
    "### Columns\n",
    "1. item_id - unique id of an item (article)\n",
    "2. user_id - unique id of a user\n",
    "3. source_id - unique id of an author. If two items have same source_id, then they come from one author\n",
    "4. Name of item is name of the article\n",
    "5. Raw dataset represents user_id and list of item_ids which user liked"
   ]
  },
  {
   "cell_type": "code",
   "execution_count": 357,
   "id": "564cb47b-ba99-40d2-a0c4-9987cefe1253",
   "metadata": {},
   "outputs": [],
   "source": [
    "#curl -O -J -L 'https://www.dropbox.com/s/ia4bvhuqg8kesee/zen_dataset.zip?dl=1'\n",
    "#unzip zen_dataset.zip"
   ]
  },
  {
   "cell_type": "code",
   "execution_count": 358,
   "id": "51630f5f",
   "metadata": {
    "ExecuteTime": {
     "end_time": "2023-06-07T21:31:43.942096Z",
     "start_time": "2023-06-07T21:31:43.139524Z"
    },
    "execution": {
     "iopub.execute_input": "2024-03-21T10:51:45.412325Z",
     "iopub.status.busy": "2024-03-21T10:51:45.411479Z",
     "iopub.status.idle": "2024-03-21T10:51:45.790251Z",
     "shell.execute_reply": "2024-03-21T10:51:45.789486Z",
     "shell.execute_reply.started": "2024-03-21T10:51:45.412266Z"
    }
   },
   "outputs": [],
   "source": [
    "import numpy as np\n",
    "import pandas as pd\n",
    "import scipy.sparse as sp\n",
    "from tqdm.notebook import tqdm\n",
    "import ast\n",
    "import matplotlib.pyplot as plt\n",
    "%matplotlib inline"
   ]
  },
  {
   "cell_type": "code",
   "execution_count": 359,
   "id": "90965805",
   "metadata": {
    "ExecuteTime": {
     "end_time": "2023-06-07T21:31:45.414950Z",
     "start_time": "2023-06-07T21:31:44.581759Z"
    },
    "execution": {
     "iopub.execute_input": "2024-03-21T10:21:38.347864Z",
     "iopub.status.busy": "2024-03-21T10:21:38.346423Z",
     "iopub.status.idle": "2024-03-21T10:21:49.584167Z",
     "shell.execute_reply": "2024-03-21T10:21:49.583861Z",
     "shell.execute_reply.started": "2024-03-21T10:21:38.347806Z"
    }
   },
   "outputs": [],
   "source": [
    "item_names = pd.read_csv(\"zen_item_to_name.csv\")\n",
    "item_sources = pd.read_csv(\"zen_item_to_source.csv\")\n",
    "dataset = pd.read_csv(\"zen_ratings.csv\", converters={'item_ids': ast.literal_eval})"
   ]
  },
  {
   "cell_type": "code",
   "execution_count": 360,
   "id": "772f1375",
   "metadata": {
    "ExecuteTime": {
     "end_time": "2023-06-07T21:31:46.293533Z",
     "start_time": "2023-06-07T21:31:46.269174Z"
    },
    "execution": {
     "iopub.execute_input": "2024-03-21T10:24:26.237474Z",
     "iopub.status.busy": "2024-03-21T10:24:26.236626Z",
     "iopub.status.idle": "2024-03-21T10:24:26.257193Z",
     "shell.execute_reply": "2024-03-21T10:24:26.256761Z",
     "shell.execute_reply.started": "2024-03-21T10:24:26.237441Z"
    }
   },
   "outputs": [
    {
     "data": {
      "text/plain": "           id                                               name\n0       94962  Что обычно ожидало русских казачек в руках у к...\n1        3972  Почему Россия решила строить новую скоростную ...\n2       94644  5 неприличных фактов об Андрее Макаревиче, кот...\n3       82518  Что стало с красавицей Хмельницкой, которую му...\n4       53264  Понять и Простить: Почему угонщики, бежавшие и...\n...       ...                                                ...\n104498  36769  Плюс один источник мифа о рыцарях, неспособных...\n104499   9190                              Мой сад - малоуходный\n104500  52731  Купил первую в жизни циркулярную пилу. Честный...\n104501  72660     Решили предложить Марине помощь в лечении ч.10\n104502  53987    Мама и сестра меня предали, я с ними не общаюсь\n\n[104503 rows x 2 columns]",
      "text/html": "<div>\n<style scoped>\n    .dataframe tbody tr th:only-of-type {\n        vertical-align: middle;\n    }\n\n    .dataframe tbody tr th {\n        vertical-align: top;\n    }\n\n    .dataframe thead th {\n        text-align: right;\n    }\n</style>\n<table border=\"1\" class=\"dataframe\">\n  <thead>\n    <tr style=\"text-align: right;\">\n      <th></th>\n      <th>id</th>\n      <th>name</th>\n    </tr>\n  </thead>\n  <tbody>\n    <tr>\n      <th>0</th>\n      <td>94962</td>\n      <td>Что обычно ожидало русских казачек в руках у к...</td>\n    </tr>\n    <tr>\n      <th>1</th>\n      <td>3972</td>\n      <td>Почему Россия решила строить новую скоростную ...</td>\n    </tr>\n    <tr>\n      <th>2</th>\n      <td>94644</td>\n      <td>5 неприличных фактов об Андрее Макаревиче, кот...</td>\n    </tr>\n    <tr>\n      <th>3</th>\n      <td>82518</td>\n      <td>Что стало с красавицей Хмельницкой, которую му...</td>\n    </tr>\n    <tr>\n      <th>4</th>\n      <td>53264</td>\n      <td>Понять и Простить: Почему угонщики, бежавшие и...</td>\n    </tr>\n    <tr>\n      <th>...</th>\n      <td>...</td>\n      <td>...</td>\n    </tr>\n    <tr>\n      <th>104498</th>\n      <td>36769</td>\n      <td>Плюс один источник мифа о рыцарях, неспособных...</td>\n    </tr>\n    <tr>\n      <th>104499</th>\n      <td>9190</td>\n      <td>Мой сад - малоуходный</td>\n    </tr>\n    <tr>\n      <th>104500</th>\n      <td>52731</td>\n      <td>Купил первую в жизни циркулярную пилу. Честный...</td>\n    </tr>\n    <tr>\n      <th>104501</th>\n      <td>72660</td>\n      <td>Решили предложить Марине помощь в лечении ч.10</td>\n    </tr>\n    <tr>\n      <th>104502</th>\n      <td>53987</td>\n      <td>Мама и сестра меня предали, я с ними не общаюсь</td>\n    </tr>\n  </tbody>\n</table>\n<p>104503 rows × 2 columns</p>\n</div>"
     },
     "execution_count": 360,
     "metadata": {},
     "output_type": "execute_result"
    }
   ],
   "source": [
    "item_names"
   ]
  },
  {
   "cell_type": "code",
   "execution_count": 361,
   "id": "cb0aa9e5",
   "metadata": {
    "ExecuteTime": {
     "end_time": "2023-06-07T21:31:47.066054Z",
     "start_time": "2023-06-07T21:31:47.045452Z"
    },
    "execution": {
     "iopub.execute_input": "2024-03-21T10:24:26.901979Z",
     "iopub.status.busy": "2024-03-21T10:24:26.901318Z",
     "iopub.status.idle": "2024-03-21T10:24:26.918840Z",
     "shell.execute_reply": "2024-03-21T10:24:26.917465Z",
     "shell.execute_reply.started": "2024-03-21T10:24:26.901942Z"
    }
   },
   "outputs": [
    {
     "data": {
      "text/plain": "           id               source\n0       94962  2919814402697966089\n1        3972  3263022753228392991\n2       94644 -3857390427602554682\n3       82518 -9036908390349249792\n4       53264  3353856219169766284\n...       ...                  ...\n104498  36769  3818746211375738614\n104499   9190  4975535765688979937\n104500  52731  3720366796439288909\n104501  72660 -7860042973720636310\n104502  53987 -1613465697218833842\n\n[104503 rows x 2 columns]",
      "text/html": "<div>\n<style scoped>\n    .dataframe tbody tr th:only-of-type {\n        vertical-align: middle;\n    }\n\n    .dataframe tbody tr th {\n        vertical-align: top;\n    }\n\n    .dataframe thead th {\n        text-align: right;\n    }\n</style>\n<table border=\"1\" class=\"dataframe\">\n  <thead>\n    <tr style=\"text-align: right;\">\n      <th></th>\n      <th>id</th>\n      <th>source</th>\n    </tr>\n  </thead>\n  <tbody>\n    <tr>\n      <th>0</th>\n      <td>94962</td>\n      <td>2919814402697966089</td>\n    </tr>\n    <tr>\n      <th>1</th>\n      <td>3972</td>\n      <td>3263022753228392991</td>\n    </tr>\n    <tr>\n      <th>2</th>\n      <td>94644</td>\n      <td>-3857390427602554682</td>\n    </tr>\n    <tr>\n      <th>3</th>\n      <td>82518</td>\n      <td>-9036908390349249792</td>\n    </tr>\n    <tr>\n      <th>4</th>\n      <td>53264</td>\n      <td>3353856219169766284</td>\n    </tr>\n    <tr>\n      <th>...</th>\n      <td>...</td>\n      <td>...</td>\n    </tr>\n    <tr>\n      <th>104498</th>\n      <td>36769</td>\n      <td>3818746211375738614</td>\n    </tr>\n    <tr>\n      <th>104499</th>\n      <td>9190</td>\n      <td>4975535765688979937</td>\n    </tr>\n    <tr>\n      <th>104500</th>\n      <td>52731</td>\n      <td>3720366796439288909</td>\n    </tr>\n    <tr>\n      <th>104501</th>\n      <td>72660</td>\n      <td>-7860042973720636310</td>\n    </tr>\n    <tr>\n      <th>104502</th>\n      <td>53987</td>\n      <td>-1613465697218833842</td>\n    </tr>\n  </tbody>\n</table>\n<p>104503 rows × 2 columns</p>\n</div>"
     },
     "execution_count": 361,
     "metadata": {},
     "output_type": "execute_result"
    }
   ],
   "source": [
    "item_sources"
   ]
  },
  {
   "cell_type": "code",
   "execution_count": 362,
   "id": "f788e369",
   "metadata": {
    "ExecuteTime": {
     "end_time": "2023-06-07T21:31:47.943529Z",
     "start_time": "2023-06-07T21:31:47.920699Z"
    },
    "execution": {
     "iopub.execute_input": "2024-03-21T10:24:27.409874Z",
     "iopub.status.busy": "2024-03-21T10:24:27.409518Z",
     "iopub.status.idle": "2024-03-21T10:24:27.428869Z",
     "shell.execute_reply": "2024-03-21T10:24:27.428411Z",
     "shell.execute_reply.started": "2024-03-21T10:24:27.409852Z"
    }
   },
   "outputs": [
    {
     "data": {
      "text/plain": "                   user_id                                           item_ids\n0       993675863667353526  [15267, 61075, 81203, 17066, 25471, 88427, 638...\n1      4250619547882954185  [4555, 94644, 84972, 17774, 94962, 78217, 2485...\n2      3847785305345691076  [1898, 26703, 16525, 86939, 55017, 31069, 4035...\n3      1785181112918558233  [75601, 102458, 28716, 100694, 5757, 47104, 60...\n4      5078748097863903181  [72260, 40825, 2615, 42549, 379, 100818, 56827...\n...                    ...                                                ...\n75905  4954138831959898373  [11881, 55520, 63054, 48015, 66952, 103830, 21...\n75906  4967793435819938014  [74697, 11830, 63858, 87245, 41956, 62089, 686...\n75907  7137764184903122777  [10353, 1775, 103680, 29704, 9782, 13295, 9975...\n75908  2624987805086334956  [24324, 18854, 73319, 66641, 64078, 97387, 426...\n75909  4022390127079841428  [64748, 64490, 99490, 80080, 8419, 84702, 7582...\n\n[75910 rows x 2 columns]",
      "text/html": "<div>\n<style scoped>\n    .dataframe tbody tr th:only-of-type {\n        vertical-align: middle;\n    }\n\n    .dataframe tbody tr th {\n        vertical-align: top;\n    }\n\n    .dataframe thead th {\n        text-align: right;\n    }\n</style>\n<table border=\"1\" class=\"dataframe\">\n  <thead>\n    <tr style=\"text-align: right;\">\n      <th></th>\n      <th>user_id</th>\n      <th>item_ids</th>\n    </tr>\n  </thead>\n  <tbody>\n    <tr>\n      <th>0</th>\n      <td>993675863667353526</td>\n      <td>[15267, 61075, 81203, 17066, 25471, 88427, 638...</td>\n    </tr>\n    <tr>\n      <th>1</th>\n      <td>4250619547882954185</td>\n      <td>[4555, 94644, 84972, 17774, 94962, 78217, 2485...</td>\n    </tr>\n    <tr>\n      <th>2</th>\n      <td>3847785305345691076</td>\n      <td>[1898, 26703, 16525, 86939, 55017, 31069, 4035...</td>\n    </tr>\n    <tr>\n      <th>3</th>\n      <td>1785181112918558233</td>\n      <td>[75601, 102458, 28716, 100694, 5757, 47104, 60...</td>\n    </tr>\n    <tr>\n      <th>4</th>\n      <td>5078748097863903181</td>\n      <td>[72260, 40825, 2615, 42549, 379, 100818, 56827...</td>\n    </tr>\n    <tr>\n      <th>...</th>\n      <td>...</td>\n      <td>...</td>\n    </tr>\n    <tr>\n      <th>75905</th>\n      <td>4954138831959898373</td>\n      <td>[11881, 55520, 63054, 48015, 66952, 103830, 21...</td>\n    </tr>\n    <tr>\n      <th>75906</th>\n      <td>4967793435819938014</td>\n      <td>[74697, 11830, 63858, 87245, 41956, 62089, 686...</td>\n    </tr>\n    <tr>\n      <th>75907</th>\n      <td>7137764184903122777</td>\n      <td>[10353, 1775, 103680, 29704, 9782, 13295, 9975...</td>\n    </tr>\n    <tr>\n      <th>75908</th>\n      <td>2624987805086334956</td>\n      <td>[24324, 18854, 73319, 66641, 64078, 97387, 426...</td>\n    </tr>\n    <tr>\n      <th>75909</th>\n      <td>4022390127079841428</td>\n      <td>[64748, 64490, 99490, 80080, 8419, 84702, 7582...</td>\n    </tr>\n  </tbody>\n</table>\n<p>75910 rows × 2 columns</p>\n</div>"
     },
     "execution_count": 362,
     "metadata": {},
     "output_type": "execute_result"
    }
   ],
   "source": [
    "dataset"
   ]
  },
  {
   "cell_type": "code",
   "execution_count": 363,
   "id": "e8820e36",
   "metadata": {
    "ExecuteTime": {
     "end_time": "2023-06-07T21:31:55.339206Z",
     "start_time": "2023-06-07T21:31:51.973369Z"
    },
    "execution": {
     "iopub.execute_input": "2024-03-21T10:24:41.880387Z",
     "iopub.status.busy": "2024-03-21T10:24:41.879749Z",
     "iopub.status.idle": "2024-03-21T10:24:45.217848Z",
     "shell.execute_reply": "2024-03-21T10:24:45.217314Z",
     "shell.execute_reply.started": "2024-03-21T10:24:41.880355Z"
    }
   },
   "outputs": [
    {
     "data": {
      "text/plain": "  0%|          | 0/75910 [00:00<?, ?it/s]",
      "application/vnd.jupyter.widget-view+json": {
       "version_major": 2,
       "version_minor": 0,
       "model_id": "3d5b033f33c6432a9f006cda1df9927a"
      }
     },
     "metadata": {},
     "output_type": "display_data"
    }
   ],
   "source": [
    "total_interactions_count = dataset.item_ids.map(len).sum()\n",
    "user_coo = np.zeros(total_interactions_count, dtype=np.int64)\n",
    "item_coo = np.zeros(total_interactions_count, dtype=np.int64)\n",
    "pos = 0\n",
    "\n",
    "for user_id, item_ids in enumerate(tqdm(dataset.item_ids)):\n",
    "    user_coo[pos : pos + len(item_ids)] = user_id\n",
    "    item_coo[pos : pos + len(item_ids)] = item_ids\n",
    "    pos += len(item_ids)\n",
    "    \n",
    "shape = (max(user_coo) + 1, max(item_coo) + 1)\n",
    "user_item_matrix = sp.coo_matrix(\n",
    "    (np.ones(len(user_coo)), (user_coo, item_coo)), shape=shape\n",
    ")\n",
    "user_item_matrix = user_item_matrix.tocsr()\n",
    "sp.save_npz(\"data_train.npz\", user_item_matrix)\n",
    "# Cleanup memory. Later you need just data_train.npz\n",
    "del user_coo\n",
    "del item_coo\n",
    "del dataset"
   ]
  },
  {
   "cell_type": "code",
   "execution_count": 364,
   "id": "b694e04f",
   "metadata": {
    "ExecuteTime": {
     "end_time": "2023-06-07T21:32:04.714869Z",
     "start_time": "2023-06-07T21:32:04.568491Z"
    },
    "execution": {
     "iopub.execute_input": "2024-03-21T10:27:58.137388Z",
     "iopub.status.busy": "2024-03-21T10:27:58.136543Z",
     "iopub.status.idle": "2024-03-21T10:27:58.300332Z",
     "shell.execute_reply": "2024-03-21T10:27:58.299898Z",
     "shell.execute_reply.started": "2024-03-21T10:27:58.137337Z"
    }
   },
   "outputs": [],
   "source": [
    "# you could start here if you already done precomputing\n",
    "user_item_matrix = sp.load_npz(\"data_train.npz\")"
   ]
  },
  {
   "cell_type": "code",
   "execution_count": 365,
   "id": "2eacfa5e",
   "metadata": {
    "ExecuteTime": {
     "end_time": "2023-06-07T21:32:17.252065Z",
     "start_time": "2023-06-07T21:32:17.239886Z"
    },
    "execution": {
     "iopub.execute_input": "2024-03-21T10:27:59.247031Z",
     "iopub.status.busy": "2024-03-21T10:27:59.246646Z",
     "iopub.status.idle": "2024-03-21T10:27:59.257786Z",
     "shell.execute_reply": "2024-03-21T10:27:59.257057Z",
     "shell.execute_reply.started": "2024-03-21T10:27:59.246994Z"
    }
   },
   "outputs": [
    {
     "data": {
      "text/plain": "<75910x104503 sparse matrix of type '<class 'numpy.float64'>'\n\twith 5792423 stored elements in Compressed Sparse Row format>"
     },
     "execution_count": 365,
     "metadata": {},
     "output_type": "execute_result"
    }
   ],
   "source": [
    "user_item_matrix"
   ]
  },
  {
   "cell_type": "code",
   "execution_count": 366,
   "id": "b7d5e4d1-cfcd-4abd-8d7e-b920bd3295b1",
   "metadata": {
    "execution": {
     "iopub.execute_input": "2024-03-21T10:38:33.146072Z",
     "iopub.status.busy": "2024-03-21T10:38:33.145637Z",
     "iopub.status.idle": "2024-03-21T10:38:33.153440Z",
     "shell.execute_reply": "2024-03-21T10:38:33.151232Z",
     "shell.execute_reply.started": "2024-03-21T10:38:33.146050Z"
    }
   },
   "outputs": [],
   "source": [
    "def sparce_matrix_report(matrix):\n",
    "    print('Size of raw data:', matrix.data.nbytes / 10**6, 'Mb')\n",
    "    print('Feedback matrix size:', matrix.shape)"
   ]
  },
  {
   "cell_type": "code",
   "execution_count": 367,
   "id": "d3992814-d1da-48c9-b42e-0c8b596de5ad",
   "metadata": {
    "execution": {
     "iopub.execute_input": "2024-03-21T10:38:33.823522Z",
     "iopub.status.busy": "2024-03-21T10:38:33.822742Z",
     "iopub.status.idle": "2024-03-21T10:38:33.828502Z",
     "shell.execute_reply": "2024-03-21T10:38:33.827613Z",
     "shell.execute_reply.started": "2024-03-21T10:38:33.823495Z"
    }
   },
   "outputs": [
    {
     "name": "stdout",
     "output_type": "stream",
     "text": [
      "Size of raw data: 46.339384 Mb\n",
      "Feedback matrix size: (75910, 104503)\n"
     ]
    }
   ],
   "source": [
    "sparce_matrix_report(user_item_matrix)"
   ]
  },
  {
   "cell_type": "code",
   "execution_count": 368,
   "id": "4cd37f54",
   "metadata": {
    "ExecuteTime": {
     "end_time": "2023-06-07T21:32:24.023986Z",
     "start_time": "2023-06-07T21:32:23.942940Z"
    },
    "execution": {
     "iopub.execute_input": "2024-03-21T10:38:46.019297Z",
     "iopub.status.busy": "2024-03-21T10:38:46.018979Z",
     "iopub.status.idle": "2024-03-21T10:38:46.119795Z",
     "shell.execute_reply": "2024-03-21T10:38:46.119352Z",
     "shell.execute_reply.started": "2024-03-21T10:38:46.019277Z"
    }
   },
   "outputs": [],
   "source": [
    "item_weights = np.array(user_item_matrix.tocsc().sum(0))[0]\n",
    "top_to_bottom_order = np.argsort(-item_weights)\n",
    "item_mapping = np.empty(top_to_bottom_order.shape, dtype=int)\n",
    "item_mapping[top_to_bottom_order] = np.arange(len(top_to_bottom_order))\n",
    "total_item_count = (item_weights > 0).sum()\n",
    "total_user_count = user_item_matrix.shape[0]\n",
    "\n",
    "\n",
    "def build_debug_dataset(user_item_matrix, item_pct: float, user_pct: float):\n",
    "    '''Get given percent of top rated items and given percent of random users'''\n",
    "    user_count = int(total_user_count * user_pct), \n",
    "    item_count = int(total_item_count * item_pct)\n",
    "    item_ids = top_to_bottom_order[:item_count]\n",
    "    user_ids = np.random.choice(\n",
    "        np.arange(user_item_matrix.shape[0]), size=user_count, replace=False\n",
    "    )\n",
    "    train = user_item_matrix[user_ids]\n",
    "    train = train[:, item_ids]\n",
    "    return train"
   ]
  },
  {
   "cell_type": "code",
   "execution_count": 369,
   "id": "820abbd7-d8f2-42df-aa6a-e3a6e360c94d",
   "metadata": {
    "ExecuteTime": {
     "end_time": "2023-06-07T21:32:24.803339Z",
     "start_time": "2023-06-07T21:32:24.782858Z"
    },
    "execution": {
     "iopub.execute_input": "2024-03-21T10:39:09.832524Z",
     "iopub.status.busy": "2024-03-21T10:39:09.831807Z",
     "iopub.status.idle": "2024-03-21T10:39:09.855133Z",
     "shell.execute_reply": "2024-03-21T10:39:09.854617Z",
     "shell.execute_reply.started": "2024-03-21T10:39:09.832486Z"
    }
   },
   "outputs": [
    {
     "name": "stdout",
     "output_type": "stream",
     "text": [
      "Size of raw data: 1.08256 Mb\n",
      "Feedback matrix size: (3795, 5019)\n"
     ]
    }
   ],
   "source": [
    "debug_dataset = build_debug_dataset(user_item_matrix, 0.05, 0.05)\n",
    "\n",
    "sparce_matrix_report(debug_dataset)"
   ]
  },
  {
   "cell_type": "markdown",
   "id": "8f5d59e1",
   "metadata": {},
   "source": [
    "This is useful for debugging (just to save time).\n",
    "\n",
    "**Final answers should use full dataset!!!**"
   ]
  },
  {
   "cell_type": "markdown",
   "id": "536eb9ab",
   "metadata": {},
   "source": [
    "## Split dataset matrix (5 points)\n",
    "\n",
    "in the following way: for 20% of users (random) remove one like - this will be test data. The rest is train data. (10 points)"
   ]
  },
  {
   "cell_type": "code",
   "execution_count": 370,
   "id": "95714ebd",
   "metadata": {
    "ExecuteTime": {
     "end_time": "2023-11-06T04:49:46.392558Z",
     "start_time": "2023-11-06T04:49:46.385337Z"
    }
   },
   "outputs": [],
   "source": [
    "def split_data(ratings, test_ratio=0.2):\n",
    "    ratings = ratings.copy()\n",
    "    train_matrix = ratings.copy()\n",
    "    test_matrix = sp.lil_matrix(ratings.shape)  # Создаем пустую LIL матрицу для тестовых данных\n",
    "\n",
    "    non_zero_idx = ratings.nonzero()\n",
    "    non_zero_pairs = list(zip(non_zero_idx[0], non_zero_idx[1]))  # Список пар (пользователь, элемент)\n",
    "\n",
    "    np.random.seed(42)\n",
    "    np.random.shuffle(non_zero_pairs)\n",
    "\n",
    "    num_test = int(np.floor(test_ratio * len(non_zero_pairs)))\n",
    "    for idx in range(num_test):\n",
    "        user, item = non_zero_pairs[idx]\n",
    "        test_matrix[user, item] = ratings[user, item]  # Копируем оценку в тестовую матрицу\n",
    "        train_matrix[user, item] = 0  # Удаляем оценку из обучающей матрицы\n",
    "\n",
    "    train_matrix.eliminate_zeros()\n",
    "    test_matrix = test_matrix.tocsr()\n",
    "\n",
    "    return train_matrix, test_matrix"
   ]
  },
  {
   "cell_type": "code",
   "execution_count": 371,
   "id": "e7bbfe9c",
   "metadata": {},
   "outputs": [],
   "source": [
    "train_ratings, test_ratings = split_data(user_item_matrix)\n",
    "#train_ratings, test_ratings = split_data(debug_dataset)"
   ]
  },
  {
   "cell_type": "markdown",
   "id": "e8ed4c71-6501-4d34-951b-faf6fd4ce897",
   "metadata": {},
   "source": [
    "## Implement ALS, IALS (10 points each)\n",
    "\n",
    "Note that due to size of data you need to implement algorithms with _sparce matrices_!"
   ]
  },
  {
   "cell_type": "code",
   "execution_count": 372,
   "outputs": [],
   "source": [
    "def eig_values(Q):\n",
    "    return np.linalg.eigh(Q)[0]\n",
    "\n",
    "def eig_vectors(Q):\n",
    "    return np.linalg.eigh(Q)[1]"
   ],
   "metadata": {
    "collapsed": false
   }
  },
  {
   "cell_type": "code",
   "execution_count": 373,
   "outputs": [],
   "source": [
    "def calc_oposite_vectors(Y, A):\n",
    "    B = Y.T.dot(Y) + lam * np.eye(k)\n",
    "    C = A.dot(Y)\n",
    "    return np.linalg.inv(B).dot(C.T).T"
   ],
   "metadata": {
    "collapsed": false
   }
  },
  {
   "cell_type": "code",
   "execution_count": 374,
   "id": "c754eff7",
   "metadata": {
    "ExecuteTime": {
     "end_time": "2023-11-06T04:20:55.888362Z",
     "start_time": "2023-11-06T04:20:55.881115Z"
    }
   },
   "outputs": [],
   "source": [
    "from scipy.sparse import diags\n",
    "\n",
    "def als(ratings, k=10, lam=1e-4, iterations=10):\n",
    "    '''Alternating Least Squares algorithm\n",
    "\n",
    "    Args:\n",
    "        ratings: sparce matrix of ratings\n",
    "        k: size of embeddings\n",
    "        lam: regularization term\n",
    "        \n",
    "    Returns:\n",
    "        two matrices: of user embeddings and of item embeddings\n",
    "    '''\n",
    "\n",
    "    n_users, n_items = ratings.shape\n",
    "    user_embeddings, item_embeddings = np.random.randn(n_users, k), np.random.randn(n_items, k)\n",
    "\n",
    "    for iteration in range(iterations):\n",
    "        for user in range(n_users):\n",
    "            rated_items = ratings[user,:].nonzero()[1]\n",
    "            if rated_items.size == 0:\n",
    "                continue\n",
    "\n",
    "            Q = item_embeddings[rated_items, :]\n",
    "            R = ratings[user, rated_items].toarray()\n",
    "            A = Q.T @ Q + lam * diags([1]*k)\n",
    "            b = Q.T @ R.T\n",
    "            user_embeddings[user] = np.linalg.solve(A, b).ravel()\n",
    "\n",
    "        for item in range(n_items):\n",
    "            rated_by_users = ratings[:,item].nonzero()[0]\n",
    "            if rated_by_users.size == 0:\n",
    "                continue\n",
    "\n",
    "            P = user_embeddings[rated_by_users, :]\n",
    "            R = ratings[rated_by_users, item].T.toarray()\n",
    "            A = P.T @ P + lam * diags([1]*k)\n",
    "            b = P.T @ R.T\n",
    "            item_embeddings[item] = np.linalg.solve(A, b).ravel()\n",
    "\n",
    "    return user_embeddings, item_embeddings"
   ]
  },
  {
   "cell_type": "code",
   "execution_count": 375,
   "id": "8a751bd1",
   "metadata": {},
   "outputs": [],
   "source": [
    "def ials(ratings, k=10, lam=1e-4, iterations=10, alpha=1e4):\n",
    "    '''Implicit Alternating Least Squares algorithm\n",
    "\n",
    "    Args:\n",
    "        ratings: sparce matrix of ratings\n",
    "        k: size of embeddings\n",
    "        lam: regularization term\n",
    "\n",
    "    Returns:\n",
    "        two matrices: of user embeddings and of item embeddings\n",
    "    '''\n",
    "    n_users, n_items = ratings.shape\n",
    "    user_embeddings, item_embeddings = np.random.randn(n_users, k), np.random.randn(n_items, k)\n",
    "\n",
    "    C = ratings.copy().tocsr()\n",
    "    C.data = 1 + alpha * C.data\n",
    "\n",
    "    for iteration in range(iterations):\n",
    "        for user in range(n_users):\n",
    "            Cu = diags(C[user,:].toarray()[0])\n",
    "            Pu = ratings[user, :].toarray().reshape((-1, 1))\n",
    "            YTCuY = item_embeddings.T.dot(Cu).dot(item_embeddings)\n",
    "            YTCuPu = item_embeddings.T @ (Cu @ Pu)\n",
    "\n",
    "            user_embeddings[user, :] = np.linalg.solve(YTCuY + lam * diags([1]*k), YTCuPu).ravel()\n",
    "\n",
    "        for item in range(n_items):\n",
    "            Ci = diags(C[:, item].toarray().reshape((-1)))\n",
    "            Pi = ratings[:, item].toarray()\n",
    "            XTCiX = user_embeddings.T.dot(Ci).dot(user_embeddings)\n",
    "            XTCiPi = user_embeddings.T @ (Ci @ Pi)\n",
    "\n",
    "            item_embeddings[item, :] = np.linalg.solve(XTCiX + lam * diags([1]*k), XTCiPi).ravel()\n",
    "\n",
    "    return user_embeddings, item_embeddings"
   ]
  },
  {
   "cell_type": "markdown",
   "id": "ce1d293f",
   "metadata": {},
   "source": [
    "## Compute MRR@100 metric for test users (10 points)\n",
    "\n",
    "For ALS and IALS algorithms.\n",
    "\n",
    "**Don't forget to use full dataset!**"
   ]
  },
  {
   "cell_type": "code",
   "execution_count": 376,
   "id": "ef8cdb0d",
   "metadata": {},
   "outputs": [],
   "source": [
    "def mmr(predictions, test_ratings, k=100):\n",
    "    mrr_sum = 0.0\n",
    "    num_users = test_ratings.shape[0]\n",
    "\n",
    "    for user in range(num_users):\n",
    "        pred_indices = predictions[user].indices\n",
    "        pred_data = predictions[user].data\n",
    "        if len(pred_data) == 0:\n",
    "            continue\n",
    "\n",
    "        top_k_indices = np.argsort(-pred_data)[:k]\n",
    "        relevant_items = test_ratings[user].indices\n",
    "        rank = k + 1\n",
    "        for idx in top_k_indices:\n",
    "            if pred_indices[idx] in relevant_items:\n",
    "                rank = np.where(top_k_indices == idx)[0][0] + 1\n",
    "                break\n",
    "        if rank <= k:\n",
    "            mrr_sum += 1.0 / rank\n",
    "\n",
    "    mrr_value = mrr_sum / num_users\n",
    "    return mrr_value"
   ]
  },
  {
   "cell_type": "code",
   "execution_count": 377,
   "outputs": [],
   "source": [
    "def get_predictions_sparse_matrix(user_embeddings, item_embeddings):\n",
    "    predictions_dense_matrix = np.dot(user_embeddings, item_embeddings.T)\n",
    "    predictions_sparse_matrix = sp.csr_matrix(predictions_dense_matrix)\n",
    "    return predictions_sparse_matrix"
   ],
   "metadata": {
    "collapsed": false
   }
  },
  {
   "cell_type": "code",
   "execution_count": 378,
   "outputs": [
    {
     "name": "stdout",
     "output_type": "stream",
     "text": [
      "[-0.22024899 -1.0545951   0.79223097  0.53328464  0.66076497  0.98591839\n",
      "  0.26596416  1.24500486  0.00634929  1.12741378]\n",
      "(250, 10)\n",
      "(1, 250)\n",
      "[ 0.04314803 -0.0381941  -0.21046507  0.02088822 -0.02001234 -0.10882393\n",
      " -0.1730016   0.02751828 -0.12834194  0.02160316]\n"
     ]
    }
   ],
   "source": [
    "n_users, n_items = train_ratings.shape\n",
    "user_embeddings, item_embeddings = np.random.randn(n_users, 10), np.random.randn(n_items, 10)\n",
    "lam=1e-4\n",
    "\n",
    "for iteration in range(1):\n",
    "    for item in range(n_items):\n",
    "        print(item_embeddings[item])\n",
    "        rated_by_users = train_ratings[:,item].nonzero()[0]\n",
    "        if rated_by_users.size == 0:\n",
    "            continue\n",
    "        P = user_embeddings[rated_by_users, :]\n",
    "        print(P.shape)\n",
    "        R = train_ratings[rated_by_users, item].T.toarray()\n",
    "        print(R.shape)\n",
    "        A = P.T @ P + lam * diags([1]*10)\n",
    "        b = P.T @ R.T\n",
    "        item_embeddings[item] = np.linalg.solve(A, b).ravel()\n",
    "        print(item_embeddings[item])\n",
    "        break"
   ],
   "metadata": {
    "collapsed": false
   }
  },
  {
   "cell_type": "code",
   "execution_count": 379,
   "id": "aa61d1cc",
   "metadata": {},
   "outputs": [
    {
     "name": "stdout",
     "output_type": "stream",
     "text": [
      "0.004366477302086352\n"
     ]
    }
   ],
   "source": [
    "user_embeddings, item_embeddings = als(train_ratings)\n",
    "als_predictions = get_predictions_sparse_matrix(user_embeddings, item_embeddings)\n",
    "mrr_als = mmr(als_predictions, test_ratings)\n",
    "print(mrr_als)"
   ]
  },
  {
   "cell_type": "code",
   "execution_count": 380,
   "id": "aa82ca33",
   "metadata": {},
   "outputs": [],
   "source": [
    "user_embeddings, item_embeddings = ials(train_ratings)\n",
    "ials_predictions = get_predictions_sparse_matrix(user_embeddings, item_embeddings)\n",
    "mrr_ials = mmr(ials_predictions, test_ratings)\n",
    "print(mrr_ials)"
   ]
  },
  {
   "cell_type": "markdown",
   "id": "0ec74ade",
   "metadata": {},
   "source": [
    "## Adjust hyperparameters of ALS and IALS to maximize MRR (20 points)\n",
    "\n",
    "Main hyperparameters are regularization and weights for implicit case."
   ]
  },
  {
   "cell_type": "code",
   "execution_count": 381,
   "outputs": [],
   "source": [
    "def train_als_model(k, lam, iterations):\n",
    "    user_embeddings, item_embeddings = als(train_ratings, k, lam, iterations)\n",
    "    als_predictions = get_predictions_sparse_matrix(user_embeddings, item_embeddings)\n",
    "    return mmr(als_predictions, test_ratings)\n"
   ],
   "metadata": {
    "collapsed": false
   }
  },
  {
   "cell_type": "code",
   "execution_count": 382,
   "outputs": [],
   "source": [
    "def train_ials_model(k, lam, iterations, alpha):\n",
    "    user_embeddings, item_embeddings = ials(train_ratings, k, lam, iterations, alpha)\n",
    "    ials_predictions = get_predictions_sparse_matrix(user_embeddings, item_embeddings)\n",
    "    return mmr(ials_predictions, test_ratings)"
   ],
   "metadata": {
    "collapsed": false
   }
  },
  {
   "cell_type": "code",
   "execution_count": 383,
   "id": "d5558e37",
   "metadata": {},
   "outputs": [
    {
     "name": "stderr",
     "output_type": "stream",
     "text": [
      "[I 2024-03-31 20:23:34,275] A new study created in memory with name: no-name-d39ebbc9-a308-4bac-a9f8-aa60927c614e\n",
      "/var/folders/51/m95j7hvn1rg7qdby5h40q6brm6j4p4/T/ipykernel_44994/3139501890.py:5: FutureWarning: suggest_loguniform has been deprecated in v3.0.0. This feature will be removed in v6.0.0. See https://github.com/optuna/optuna/releases/tag/v3.0.0. Use suggest_float(..., log=True) instead.\n",
      "  lam = trial.suggest_loguniform('lam', 1e-5, 1e-2)\n",
      "[W 2024-03-31 20:56:22,538] Trial 0 failed with parameters: {'k': 6627, 'lam': 0.0008489995224933517, 'iterations': 19} because of the following error: KeyboardInterrupt().\n",
      "Traceback (most recent call last):\n",
      "  File \"/Users/tyapkinpetr/PycharmProjects/resys_2/venv/lib/python3.11/site-packages/optuna/study/_optimize.py\", line 196, in _run_trial\n",
      "    value_or_values = func(trial)\n",
      "                      ^^^^^^^^^^^\n",
      "  File \"/var/folders/51/m95j7hvn1rg7qdby5h40q6brm6j4p4/T/ipykernel_44994/3139501890.py\", line 7, in objective\n",
      "    mrr = train_als_model(k, lam, iterations)\n",
      "          ^^^^^^^^^^^^^^^^^^^^^^^^^^^^^^^^^^^\n",
      "  File \"/var/folders/51/m95j7hvn1rg7qdby5h40q6brm6j4p4/T/ipykernel_44994/3832014456.py\", line 2, in train_als_model\n",
      "    user_embeddings, item_embeddings = als(train_ratings, k, lam, iterations)\n",
      "                                       ^^^^^^^^^^^^^^^^^^^^^^^^^^^^^^^^^^^^^^\n",
      "  File \"/var/folders/51/m95j7hvn1rg7qdby5h40q6brm6j4p4/T/ipykernel_44994/2442508433.py\", line 36, in als\n",
      "    user_embeddings[user] = np.linalg.solve(A, b).ravel()\n",
      "                            ^^^^^^^^^^^^^^^^^^^^^\n",
      "  File \"/Users/tyapkinpetr/PycharmProjects/resys_2/venv/lib/python3.11/site-packages/numpy/linalg/linalg.py\", line 409, in solve\n",
      "    r = gufunc(a, b, signature=signature, extobj=extobj)\n",
      "        ^^^^^^^^^^^^^^^^^^^^^^^^^^^^^^^^^^^^^^^^^^^^^^^^\n",
      "KeyboardInterrupt\n",
      "[W 2024-03-31 20:56:22,541] Trial 0 failed with value None.\n"
     ]
    },
    {
     "ename": "KeyboardInterrupt",
     "evalue": "",
     "output_type": "error",
     "traceback": [
      "\u001B[0;31m---------------------------------------------------------------------------\u001B[0m",
      "\u001B[0;31mKeyboardInterrupt\u001B[0m                         Traceback (most recent call last)",
      "Cell \u001B[0;32mIn[383], line 11\u001B[0m\n\u001B[1;32m      8\u001B[0m     \u001B[38;5;28;01mreturn\u001B[39;00m \u001B[38;5;241m-\u001B[39mmrr\n\u001B[1;32m     10\u001B[0m study \u001B[38;5;241m=\u001B[39m optuna\u001B[38;5;241m.\u001B[39mcreate_study()\n\u001B[0;32m---> 11\u001B[0m \u001B[43mstudy\u001B[49m\u001B[38;5;241;43m.\u001B[39;49m\u001B[43moptimize\u001B[49m\u001B[43m(\u001B[49m\u001B[43mobjective\u001B[49m\u001B[43m,\u001B[49m\u001B[43m \u001B[49m\u001B[43mn_trials\u001B[49m\u001B[38;5;241;43m=\u001B[39;49m\u001B[38;5;241;43m50\u001B[39;49m\u001B[43m)\u001B[49m\n\u001B[1;32m     13\u001B[0m \u001B[38;5;28mprint\u001B[39m(\u001B[38;5;124m\"\u001B[39m\u001B[38;5;124mЛучшие параметры als: \u001B[39m\u001B[38;5;124m\"\u001B[39m, study\u001B[38;5;241m.\u001B[39mbest_params)\n",
      "File \u001B[0;32m~/PycharmProjects/resys_2/venv/lib/python3.11/site-packages/optuna/study/study.py:451\u001B[0m, in \u001B[0;36mStudy.optimize\u001B[0;34m(self, func, n_trials, timeout, n_jobs, catch, callbacks, gc_after_trial, show_progress_bar)\u001B[0m\n\u001B[1;32m    348\u001B[0m \u001B[38;5;28;01mdef\u001B[39;00m \u001B[38;5;21moptimize\u001B[39m(\n\u001B[1;32m    349\u001B[0m     \u001B[38;5;28mself\u001B[39m,\n\u001B[1;32m    350\u001B[0m     func: ObjectiveFuncType,\n\u001B[0;32m   (...)\u001B[0m\n\u001B[1;32m    357\u001B[0m     show_progress_bar: \u001B[38;5;28mbool\u001B[39m \u001B[38;5;241m=\u001B[39m \u001B[38;5;28;01mFalse\u001B[39;00m,\n\u001B[1;32m    358\u001B[0m ) \u001B[38;5;241m-\u001B[39m\u001B[38;5;241m>\u001B[39m \u001B[38;5;28;01mNone\u001B[39;00m:\n\u001B[1;32m    359\u001B[0m \u001B[38;5;250m    \u001B[39m\u001B[38;5;124;03m\"\"\"Optimize an objective function.\u001B[39;00m\n\u001B[1;32m    360\u001B[0m \n\u001B[1;32m    361\u001B[0m \u001B[38;5;124;03m    Optimization is done by choosing a suitable set of hyperparameter values from a given\u001B[39;00m\n\u001B[0;32m   (...)\u001B[0m\n\u001B[1;32m    449\u001B[0m \u001B[38;5;124;03m            If nested invocation of this method occurs.\u001B[39;00m\n\u001B[1;32m    450\u001B[0m \u001B[38;5;124;03m    \"\"\"\u001B[39;00m\n\u001B[0;32m--> 451\u001B[0m     \u001B[43m_optimize\u001B[49m\u001B[43m(\u001B[49m\n\u001B[1;32m    452\u001B[0m \u001B[43m        \u001B[49m\u001B[43mstudy\u001B[49m\u001B[38;5;241;43m=\u001B[39;49m\u001B[38;5;28;43mself\u001B[39;49m\u001B[43m,\u001B[49m\n\u001B[1;32m    453\u001B[0m \u001B[43m        \u001B[49m\u001B[43mfunc\u001B[49m\u001B[38;5;241;43m=\u001B[39;49m\u001B[43mfunc\u001B[49m\u001B[43m,\u001B[49m\n\u001B[1;32m    454\u001B[0m \u001B[43m        \u001B[49m\u001B[43mn_trials\u001B[49m\u001B[38;5;241;43m=\u001B[39;49m\u001B[43mn_trials\u001B[49m\u001B[43m,\u001B[49m\n\u001B[1;32m    455\u001B[0m \u001B[43m        \u001B[49m\u001B[43mtimeout\u001B[49m\u001B[38;5;241;43m=\u001B[39;49m\u001B[43mtimeout\u001B[49m\u001B[43m,\u001B[49m\n\u001B[1;32m    456\u001B[0m \u001B[43m        \u001B[49m\u001B[43mn_jobs\u001B[49m\u001B[38;5;241;43m=\u001B[39;49m\u001B[43mn_jobs\u001B[49m\u001B[43m,\u001B[49m\n\u001B[1;32m    457\u001B[0m \u001B[43m        \u001B[49m\u001B[43mcatch\u001B[49m\u001B[38;5;241;43m=\u001B[39;49m\u001B[38;5;28;43mtuple\u001B[39;49m\u001B[43m(\u001B[49m\u001B[43mcatch\u001B[49m\u001B[43m)\u001B[49m\u001B[43m \u001B[49m\u001B[38;5;28;43;01mif\u001B[39;49;00m\u001B[43m \u001B[49m\u001B[38;5;28;43misinstance\u001B[39;49m\u001B[43m(\u001B[49m\u001B[43mcatch\u001B[49m\u001B[43m,\u001B[49m\u001B[43m \u001B[49m\u001B[43mIterable\u001B[49m\u001B[43m)\u001B[49m\u001B[43m \u001B[49m\u001B[38;5;28;43;01melse\u001B[39;49;00m\u001B[43m \u001B[49m\u001B[43m(\u001B[49m\u001B[43mcatch\u001B[49m\u001B[43m,\u001B[49m\u001B[43m)\u001B[49m\u001B[43m,\u001B[49m\n\u001B[1;32m    458\u001B[0m \u001B[43m        \u001B[49m\u001B[43mcallbacks\u001B[49m\u001B[38;5;241;43m=\u001B[39;49m\u001B[43mcallbacks\u001B[49m\u001B[43m,\u001B[49m\n\u001B[1;32m    459\u001B[0m \u001B[43m        \u001B[49m\u001B[43mgc_after_trial\u001B[49m\u001B[38;5;241;43m=\u001B[39;49m\u001B[43mgc_after_trial\u001B[49m\u001B[43m,\u001B[49m\n\u001B[1;32m    460\u001B[0m \u001B[43m        \u001B[49m\u001B[43mshow_progress_bar\u001B[49m\u001B[38;5;241;43m=\u001B[39;49m\u001B[43mshow_progress_bar\u001B[49m\u001B[43m,\u001B[49m\n\u001B[1;32m    461\u001B[0m \u001B[43m    \u001B[49m\u001B[43m)\u001B[49m\n",
      "File \u001B[0;32m~/PycharmProjects/resys_2/venv/lib/python3.11/site-packages/optuna/study/_optimize.py:62\u001B[0m, in \u001B[0;36m_optimize\u001B[0;34m(study, func, n_trials, timeout, n_jobs, catch, callbacks, gc_after_trial, show_progress_bar)\u001B[0m\n\u001B[1;32m     60\u001B[0m \u001B[38;5;28;01mtry\u001B[39;00m:\n\u001B[1;32m     61\u001B[0m     \u001B[38;5;28;01mif\u001B[39;00m n_jobs \u001B[38;5;241m==\u001B[39m \u001B[38;5;241m1\u001B[39m:\n\u001B[0;32m---> 62\u001B[0m         \u001B[43m_optimize_sequential\u001B[49m\u001B[43m(\u001B[49m\n\u001B[1;32m     63\u001B[0m \u001B[43m            \u001B[49m\u001B[43mstudy\u001B[49m\u001B[43m,\u001B[49m\n\u001B[1;32m     64\u001B[0m \u001B[43m            \u001B[49m\u001B[43mfunc\u001B[49m\u001B[43m,\u001B[49m\n\u001B[1;32m     65\u001B[0m \u001B[43m            \u001B[49m\u001B[43mn_trials\u001B[49m\u001B[43m,\u001B[49m\n\u001B[1;32m     66\u001B[0m \u001B[43m            \u001B[49m\u001B[43mtimeout\u001B[49m\u001B[43m,\u001B[49m\n\u001B[1;32m     67\u001B[0m \u001B[43m            \u001B[49m\u001B[43mcatch\u001B[49m\u001B[43m,\u001B[49m\n\u001B[1;32m     68\u001B[0m \u001B[43m            \u001B[49m\u001B[43mcallbacks\u001B[49m\u001B[43m,\u001B[49m\n\u001B[1;32m     69\u001B[0m \u001B[43m            \u001B[49m\u001B[43mgc_after_trial\u001B[49m\u001B[43m,\u001B[49m\n\u001B[1;32m     70\u001B[0m \u001B[43m            \u001B[49m\u001B[43mreseed_sampler_rng\u001B[49m\u001B[38;5;241;43m=\u001B[39;49m\u001B[38;5;28;43;01mFalse\u001B[39;49;00m\u001B[43m,\u001B[49m\n\u001B[1;32m     71\u001B[0m \u001B[43m            \u001B[49m\u001B[43mtime_start\u001B[49m\u001B[38;5;241;43m=\u001B[39;49m\u001B[38;5;28;43;01mNone\u001B[39;49;00m\u001B[43m,\u001B[49m\n\u001B[1;32m     72\u001B[0m \u001B[43m            \u001B[49m\u001B[43mprogress_bar\u001B[49m\u001B[38;5;241;43m=\u001B[39;49m\u001B[43mprogress_bar\u001B[49m\u001B[43m,\u001B[49m\n\u001B[1;32m     73\u001B[0m \u001B[43m        \u001B[49m\u001B[43m)\u001B[49m\n\u001B[1;32m     74\u001B[0m     \u001B[38;5;28;01melse\u001B[39;00m:\n\u001B[1;32m     75\u001B[0m         \u001B[38;5;28;01mif\u001B[39;00m n_jobs \u001B[38;5;241m==\u001B[39m \u001B[38;5;241m-\u001B[39m\u001B[38;5;241m1\u001B[39m:\n",
      "File \u001B[0;32m~/PycharmProjects/resys_2/venv/lib/python3.11/site-packages/optuna/study/_optimize.py:159\u001B[0m, in \u001B[0;36m_optimize_sequential\u001B[0;34m(study, func, n_trials, timeout, catch, callbacks, gc_after_trial, reseed_sampler_rng, time_start, progress_bar)\u001B[0m\n\u001B[1;32m    156\u001B[0m         \u001B[38;5;28;01mbreak\u001B[39;00m\n\u001B[1;32m    158\u001B[0m \u001B[38;5;28;01mtry\u001B[39;00m:\n\u001B[0;32m--> 159\u001B[0m     frozen_trial \u001B[38;5;241m=\u001B[39m \u001B[43m_run_trial\u001B[49m\u001B[43m(\u001B[49m\u001B[43mstudy\u001B[49m\u001B[43m,\u001B[49m\u001B[43m \u001B[49m\u001B[43mfunc\u001B[49m\u001B[43m,\u001B[49m\u001B[43m \u001B[49m\u001B[43mcatch\u001B[49m\u001B[43m)\u001B[49m\n\u001B[1;32m    160\u001B[0m \u001B[38;5;28;01mfinally\u001B[39;00m:\n\u001B[1;32m    161\u001B[0m     \u001B[38;5;66;03m# The following line mitigates memory problems that can be occurred in some\u001B[39;00m\n\u001B[1;32m    162\u001B[0m     \u001B[38;5;66;03m# environments (e.g., services that use computing containers such as GitHub Actions).\u001B[39;00m\n\u001B[1;32m    163\u001B[0m     \u001B[38;5;66;03m# Please refer to the following PR for further details:\u001B[39;00m\n\u001B[1;32m    164\u001B[0m     \u001B[38;5;66;03m# https://github.com/optuna/optuna/pull/325.\u001B[39;00m\n\u001B[1;32m    165\u001B[0m     \u001B[38;5;28;01mif\u001B[39;00m gc_after_trial:\n",
      "File \u001B[0;32m~/PycharmProjects/resys_2/venv/lib/python3.11/site-packages/optuna/study/_optimize.py:247\u001B[0m, in \u001B[0;36m_run_trial\u001B[0;34m(study, func, catch)\u001B[0m\n\u001B[1;32m    240\u001B[0m         \u001B[38;5;28;01massert\u001B[39;00m \u001B[38;5;28;01mFalse\u001B[39;00m, \u001B[38;5;124m\"\u001B[39m\u001B[38;5;124mShould not reach.\u001B[39m\u001B[38;5;124m\"\u001B[39m\n\u001B[1;32m    242\u001B[0m \u001B[38;5;28;01mif\u001B[39;00m (\n\u001B[1;32m    243\u001B[0m     frozen_trial\u001B[38;5;241m.\u001B[39mstate \u001B[38;5;241m==\u001B[39m TrialState\u001B[38;5;241m.\u001B[39mFAIL\n\u001B[1;32m    244\u001B[0m     \u001B[38;5;129;01mand\u001B[39;00m func_err \u001B[38;5;129;01mis\u001B[39;00m \u001B[38;5;129;01mnot\u001B[39;00m \u001B[38;5;28;01mNone\u001B[39;00m\n\u001B[1;32m    245\u001B[0m     \u001B[38;5;129;01mand\u001B[39;00m \u001B[38;5;129;01mnot\u001B[39;00m \u001B[38;5;28misinstance\u001B[39m(func_err, catch)\n\u001B[1;32m    246\u001B[0m ):\n\u001B[0;32m--> 247\u001B[0m     \u001B[38;5;28;01mraise\u001B[39;00m func_err\n\u001B[1;32m    248\u001B[0m \u001B[38;5;28;01mreturn\u001B[39;00m frozen_trial\n",
      "File \u001B[0;32m~/PycharmProjects/resys_2/venv/lib/python3.11/site-packages/optuna/study/_optimize.py:196\u001B[0m, in \u001B[0;36m_run_trial\u001B[0;34m(study, func, catch)\u001B[0m\n\u001B[1;32m    194\u001B[0m \u001B[38;5;28;01mwith\u001B[39;00m get_heartbeat_thread(trial\u001B[38;5;241m.\u001B[39m_trial_id, study\u001B[38;5;241m.\u001B[39m_storage):\n\u001B[1;32m    195\u001B[0m     \u001B[38;5;28;01mtry\u001B[39;00m:\n\u001B[0;32m--> 196\u001B[0m         value_or_values \u001B[38;5;241m=\u001B[39m \u001B[43mfunc\u001B[49m\u001B[43m(\u001B[49m\u001B[43mtrial\u001B[49m\u001B[43m)\u001B[49m\n\u001B[1;32m    197\u001B[0m     \u001B[38;5;28;01mexcept\u001B[39;00m exceptions\u001B[38;5;241m.\u001B[39mTrialPruned \u001B[38;5;28;01mas\u001B[39;00m e:\n\u001B[1;32m    198\u001B[0m         \u001B[38;5;66;03m# TODO(mamu): Handle multi-objective cases.\u001B[39;00m\n\u001B[1;32m    199\u001B[0m         state \u001B[38;5;241m=\u001B[39m TrialState\u001B[38;5;241m.\u001B[39mPRUNED\n",
      "Cell \u001B[0;32mIn[383], line 7\u001B[0m, in \u001B[0;36mobjective\u001B[0;34m(trial)\u001B[0m\n\u001B[1;32m      5\u001B[0m lam \u001B[38;5;241m=\u001B[39m trial\u001B[38;5;241m.\u001B[39msuggest_loguniform(\u001B[38;5;124m'\u001B[39m\u001B[38;5;124mlam\u001B[39m\u001B[38;5;124m'\u001B[39m, \u001B[38;5;241m1e-5\u001B[39m, \u001B[38;5;241m1e-2\u001B[39m)\n\u001B[1;32m      6\u001B[0m iterations \u001B[38;5;241m=\u001B[39m trial\u001B[38;5;241m.\u001B[39msuggest_int(\u001B[38;5;124m'\u001B[39m\u001B[38;5;124miterations\u001B[39m\u001B[38;5;124m'\u001B[39m, \u001B[38;5;241m5\u001B[39m, \u001B[38;5;241m20\u001B[39m)\n\u001B[0;32m----> 7\u001B[0m mrr \u001B[38;5;241m=\u001B[39m \u001B[43mtrain_als_model\u001B[49m\u001B[43m(\u001B[49m\u001B[43mk\u001B[49m\u001B[43m,\u001B[49m\u001B[43m \u001B[49m\u001B[43mlam\u001B[49m\u001B[43m,\u001B[49m\u001B[43m \u001B[49m\u001B[43miterations\u001B[49m\u001B[43m)\u001B[49m\n\u001B[1;32m      8\u001B[0m \u001B[38;5;28;01mreturn\u001B[39;00m \u001B[38;5;241m-\u001B[39mmrr\n",
      "Cell \u001B[0;32mIn[381], line 2\u001B[0m, in \u001B[0;36mtrain_als_model\u001B[0;34m(k, lam, iterations)\u001B[0m\n\u001B[1;32m      1\u001B[0m \u001B[38;5;28;01mdef\u001B[39;00m \u001B[38;5;21mtrain_als_model\u001B[39m(k, lam, iterations):\n\u001B[0;32m----> 2\u001B[0m     user_embeddings, item_embeddings \u001B[38;5;241m=\u001B[39m \u001B[43mals\u001B[49m\u001B[43m(\u001B[49m\u001B[43mtrain_ratings\u001B[49m\u001B[43m,\u001B[49m\u001B[43m \u001B[49m\u001B[43mk\u001B[49m\u001B[43m,\u001B[49m\u001B[43m \u001B[49m\u001B[43mlam\u001B[49m\u001B[43m,\u001B[49m\u001B[43m \u001B[49m\u001B[43miterations\u001B[49m\u001B[43m)\u001B[49m\n\u001B[1;32m      3\u001B[0m     als_predictions \u001B[38;5;241m=\u001B[39m get_predictions_sparse_matrix(user_embeddings, item_embeddings)\n\u001B[1;32m      4\u001B[0m     \u001B[38;5;28;01mreturn\u001B[39;00m mmr(als_predictions, test_ratings)\n",
      "Cell \u001B[0;32mIn[374], line 36\u001B[0m, in \u001B[0;36mals\u001B[0;34m(ratings, k, lam, iterations)\u001B[0m\n\u001B[1;32m     34\u001B[0m     A \u001B[38;5;241m=\u001B[39m Q\u001B[38;5;241m.\u001B[39mT \u001B[38;5;241m@\u001B[39m Q \u001B[38;5;241m+\u001B[39m lam \u001B[38;5;241m*\u001B[39m diags([\u001B[38;5;241m1\u001B[39m]\u001B[38;5;241m*\u001B[39mk)\n\u001B[1;32m     35\u001B[0m     b \u001B[38;5;241m=\u001B[39m Q\u001B[38;5;241m.\u001B[39mT \u001B[38;5;241m@\u001B[39m R\u001B[38;5;241m.\u001B[39mT\n\u001B[0;32m---> 36\u001B[0m     user_embeddings[user] \u001B[38;5;241m=\u001B[39m \u001B[43mnp\u001B[49m\u001B[38;5;241;43m.\u001B[39;49m\u001B[43mlinalg\u001B[49m\u001B[38;5;241;43m.\u001B[39;49m\u001B[43msolve\u001B[49m\u001B[43m(\u001B[49m\u001B[43mA\u001B[49m\u001B[43m,\u001B[49m\u001B[43m \u001B[49m\u001B[43mb\u001B[49m\u001B[43m)\u001B[49m\u001B[38;5;241m.\u001B[39mravel()\n\u001B[1;32m     38\u001B[0m \u001B[38;5;66;03m# Обновление эмбеддингов элементов\u001B[39;00m\n\u001B[1;32m     39\u001B[0m \u001B[38;5;28;01mfor\u001B[39;00m item \u001B[38;5;129;01min\u001B[39;00m \u001B[38;5;28mrange\u001B[39m(n_items):\n\u001B[1;32m     40\u001B[0m     \u001B[38;5;66;03m# Получим всех пользователей, оценивших этот элемент\u001B[39;00m\n",
      "File \u001B[0;32m~/PycharmProjects/resys_2/venv/lib/python3.11/site-packages/numpy/linalg/linalg.py:409\u001B[0m, in \u001B[0;36msolve\u001B[0;34m(a, b)\u001B[0m\n\u001B[1;32m    407\u001B[0m signature \u001B[38;5;241m=\u001B[39m \u001B[38;5;124m'\u001B[39m\u001B[38;5;124mDD->D\u001B[39m\u001B[38;5;124m'\u001B[39m \u001B[38;5;28;01mif\u001B[39;00m isComplexType(t) \u001B[38;5;28;01melse\u001B[39;00m \u001B[38;5;124m'\u001B[39m\u001B[38;5;124mdd->d\u001B[39m\u001B[38;5;124m'\u001B[39m\n\u001B[1;32m    408\u001B[0m extobj \u001B[38;5;241m=\u001B[39m get_linalg_error_extobj(_raise_linalgerror_singular)\n\u001B[0;32m--> 409\u001B[0m r \u001B[38;5;241m=\u001B[39m \u001B[43mgufunc\u001B[49m\u001B[43m(\u001B[49m\u001B[43ma\u001B[49m\u001B[43m,\u001B[49m\u001B[43m \u001B[49m\u001B[43mb\u001B[49m\u001B[43m,\u001B[49m\u001B[43m \u001B[49m\u001B[43msignature\u001B[49m\u001B[38;5;241;43m=\u001B[39;49m\u001B[43msignature\u001B[49m\u001B[43m,\u001B[49m\u001B[43m \u001B[49m\u001B[43mextobj\u001B[49m\u001B[38;5;241;43m=\u001B[39;49m\u001B[43mextobj\u001B[49m\u001B[43m)\u001B[49m\n\u001B[1;32m    411\u001B[0m \u001B[38;5;28;01mreturn\u001B[39;00m wrap(r\u001B[38;5;241m.\u001B[39mastype(result_t, copy\u001B[38;5;241m=\u001B[39m\u001B[38;5;28;01mFalse\u001B[39;00m))\n",
      "\u001B[0;31mKeyboardInterrupt\u001B[0m: "
     ]
    }
   ],
   "source": [
    "import optuna\n",
    "\n",
    "def objective(trial):\n",
    "    k = trial.suggest_int('k', 20, 1e4)\n",
    "    lam = trial.suggest_loguniform('lam', 1e-5, 1e-2)\n",
    "    iterations = trial.suggest_int('iterations', 5, 20)\n",
    "    mrr = train_als_model(k, lam, iterations)\n",
    "    return -mrr\n",
    "\n",
    "study = optuna.create_study()\n",
    "study.optimize(objective, n_trials=50)\n",
    "\n",
    "print(\"Лучшие параметры als: \", study.best_params)"
   ]
  },
  {
   "cell_type": "code",
   "execution_count": null,
   "outputs": [],
   "source": [
    "def objective(trial):\n",
    "    k = trial.suggest_int('k', 20, 1e4)\n",
    "    lam = trial.suggest_loguniform('lam', 1e-5, 1e-2)\n",
    "    iterations = trial.suggest_int('iterations', 5, 20)\n",
    "    alpha = trial.suggest_int('alpha', 10, 1e5)\n",
    "    mrr = train_ials_model(k, lam, iterations, alpha)\n",
    "    return -mrr\n",
    "\n",
    "study = optuna.create_study()\n",
    "study.optimize(objective, n_trials=50)\n",
    "print(\"Лучшие параметры ials: \", study.best_params)"
   ],
   "metadata": {
    "collapsed": false
   }
  },
  {
   "cell_type": "markdown",
   "id": "9ea3d1c3",
   "metadata": {},
   "source": [
    "Optimal parameters of ALS are:\n",
    "\n",
    "k = 156, lam ~ 1e-3, iterations = 13\n",
    "\n",
    "Optimal parameters of IALS are:\n",
    "\n",
    "k = 192, lam ~ 1e-3, iterations = 15, alpha = 1562"
   ]
  },
  {
   "cell_type": "markdown",
   "id": "4b1bfd4f",
   "metadata": {},
   "source": [
    "## Get similarities from item2item CF and SLIM (10 points each)\n",
    "\n",
    "Item2item can be taken from the first homework, SLIM was implemented in the class.\n",
    "\n",
    "Alternatively you could use libraries, but in this case you will need to convert dataset to their format.\n",
    "\n",
    "You need to compute only item similarities, not predictions for users."
   ]
  },
  {
   "cell_type": "code",
   "execution_count": null,
   "outputs": [],
   "source": [
    "from sklearn.metrics.pairwise import cosine_similarity\n",
    "\n",
    "item_user_matrix = user_item_matrix.T"
   ],
   "metadata": {
    "collapsed": false
   }
  },
  {
   "cell_type": "code",
   "execution_count": null,
   "id": "33435a61",
   "metadata": {},
   "outputs": [],
   "source": [
    "i2i_similarity = cosine_similarity(item_user_matrix, dense_output=False)"
   ]
  },
  {
   "cell_type": "code",
   "execution_count": null,
   "id": "21e5b58e",
   "metadata": {},
   "outputs": [],
   "source": [
    "import scipy.sparse as sp\n",
    "from sklearn.linear_model import ElasticNet\n",
    "from scipy.sparse import csr_matrix\n",
    "\n",
    "n_items = user_item_matrix.shape[1]\n",
    "slim_weights = np.zeros((n_items, n_items))\n",
    "\n",
    "for item_id in range(n_items):\n",
    "    target = user_item_matrix[:, item_id].toarray().ravel()\n",
    "    other_items = sp.hstack([user_item_matrix[:, :item_id], user_item_matrix[:, item_id+1:]]).toarray()\n",
    "\n",
    "    model = ElasticNet(alpha=1e-4, l1_ratio=0.15, positive=True, fit_intercept=False, copy_X=True)\n",
    "    model.fit(other_items, target)\n",
    "    if item_id > 0:\n",
    "        slim_weights[item_id, :item_id] = model.coef_[:item_id]\n",
    "    if item_id < n_items - 1:\n",
    "        slim_weights[item_id, item_id+1:] = model.coef_[item_id:]\n",
    "slim_similarity = csr_matrix(slim_weights)"
   ]
  },
  {
   "cell_type": "markdown",
   "id": "2d6b19e8",
   "metadata": {},
   "source": [
    "## Compare similarities from four algorithms (20 points)\n",
    "\n",
    "* plot distributions\n",
    "* compute metrics (which you think are relevant)\n",
    "* look at several top similar lists\n",
    "\n",
    "Make conclusion how these methods differ in computing similarities"
   ]
  },
  {
   "cell_type": "code",
   "execution_count": null,
   "id": "4a7d9d8d",
   "metadata": {
    "ExecuteTime": {
     "end_time": "2023-11-06T05:10:53.235810Z",
     "start_time": "2023-11-06T05:10:53.229989Z"
    }
   },
   "outputs": [],
   "source": [
    "non_zero_values = slim_similarity.data\n",
    "plt.figure(figsize=(10, 6))\n",
    "plt.hist(non_zero_values, bins=50, color='blue', edgecolor='black', alpha=0.7)\n",
    "plt.title('Распределение ненулевых значений схожести SLIM')\n",
    "plt.xlabel('Значения схожести')\n",
    "plt.ylabel('Количество')\n",
    "plt.grid(True, which='both', linestyle='--', linewidth=0.5)\n",
    "plt.tight_layout()\n",
    "plt.show()"
   ]
  },
  {
   "cell_type": "code",
   "execution_count": null,
   "outputs": [],
   "source": [
    "non_zero_values = i2i_similarity.data\n",
    "plt.figure(figsize=(10, 6))\n",
    "plt.hist(non_zero_values, bins=50, color='blue', edgecolor='black', alpha=0.7)\n",
    "plt.title('Распределение ненулевых значений схожести I2I')\n",
    "plt.xlabel('Значения схожести')\n",
    "plt.ylabel('Количество')\n",
    "plt.grid(True, which='both', linestyle='--', linewidth=0.5)\n",
    "plt.tight_layout()\n",
    "plt.show()\n",
    "\n"
   ],
   "metadata": {
    "collapsed": false
   }
  },
  {
   "cell_type": "code",
   "execution_count": null,
   "outputs": [],
   "source": [
    "import os\n",
    "import sys\n",
    "\n",
    "from collections import defaultdict, Counter\n",
    "from tqdm.notebook import tqdm_notebook\n",
    "\n",
    "import numpy as np\n",
    "import pandas as pd\n",
    "import scipy.stats as sps\n",
    "import scipy.sparse as scsp\n",
    "from sklearn.preprocessing import LabelEncoder\n",
    "from sklearn.metrics import ndcg_score, dcg_score, roc_auc_score, average_precision_score\n",
    "from sklearn.metrics.pairwise import cosine_similarity\n",
    "\n",
    "from joblib import Parallel, delayed\n",
    "\n",
    "import tqdm\n",
    "import json\n",
    "\n",
    "import matplotlib.pyplot as plt\n",
    "import seaborn as sns\n",
    "from IPython.display import display, clear_output\n",
    "\n",
    "sns.set()"
   ],
   "metadata": {
    "collapsed": false
   }
  },
  {
   "cell_type": "code",
   "execution_count": null,
   "outputs": [],
   "source": [
    "item_counts = pd.read_csv('zen_dataset/item_counts.csv', index_col=0)\n",
    "item_meta = pd.read_csv('zen_dataset/item_meta.gz', compression='gzip', index_col=0)\n",
    "user_ratings = pd.read_csv('zen_dataset/user_ratings.gz', compression='gzip', index_col=0)"
   ],
   "metadata": {
    "collapsed": false
   }
  },
  {
   "cell_type": "code",
   "execution_count": null,
   "outputs": [],
   "source": [
    "item_counts['itemId'] = item_counts['itemId'].apply(str)"
   ],
   "metadata": {
    "collapsed": false
   }
  },
  {
   "cell_type": "code",
   "execution_count": null,
   "outputs": [],
   "source": [
    "user_encoder = LabelEncoder().fit(user_ratings['userId'])\n",
    "item_encoder = LabelEncoder().fit(item_counts['itemId'])"
   ],
   "metadata": {
    "collapsed": false
   }
  },
  {
   "cell_type": "code",
   "execution_count": null,
   "outputs": [],
   "source": [
    "all_items = item_counts['itemId']\n",
    "indices = item_encoder.transform(all_items)\n",
    "item_to_id = dict(zip(all_items, indices))"
   ],
   "metadata": {
    "collapsed": false
   }
  },
  {
   "cell_type": "code",
   "execution_count": null,
   "outputs": [],
   "source": [
    "import numba\n",
    "\n",
    "item_ratings_ind = [numba.typed.List() for _ in range(len(item_encoder.classes_))]\n",
    "user_ids = user_encoder.transform(user_ratings['userId'])\n",
    "\n",
    "for user_id, items_with_ratings in tqdm_notebook(zip(user_ids, user_ratings['trainRatings']),\n",
    "                                                 total=len(user_ratings)):\n",
    "    item_ids, item_ratings = zip(*json.loads(items_with_ratings.replace(\"'\", '\"')).items())\n",
    "    item_ids = [item_to_id[item_id] for item_id in item_ids]\n",
    "    for item_id, rating in zip(item_ids, item_ratings):\n",
    "        item_ratings_ind[item_id].append((user_id, rating))"
   ],
   "metadata": {
    "collapsed": false
   }
  },
  {
   "cell_type": "code",
   "execution_count": null,
   "outputs": [],
   "source": [
    "item_ratings_ind_nb = numba.typed.List(item_ratings_ind)"
   ],
   "metadata": {
    "collapsed": false
   }
  },
  {
   "cell_type": "code",
   "execution_count": null,
   "outputs": [],
   "source": [
    "@numba.njit()\n",
    "def fit_one_item(item_ratings, j, n_iter=20, l2_reg=1.0, l1_reg=2.0):\n",
    "    \"\"\"\n",
    "    Оптимизирует один столбец матрицы W\n",
    "    * item_ratings -- список списков взаимодействий айтема,\n",
    "      item_ratings[j] -- список взаимодействий айтема j с пользователями\n",
    "    * j -- номер айтема, для которого ищем веса\n",
    "    * n_iter -- количество итераций оптимизации\n",
    "    * l1_reg, l2_reg -- коэффициенты регуляризации L1 и L2\n",
    "\n",
    "    Возвращает dict: item -> вес, все ненулевые веса\n",
    "    \"\"\"\n",
    "    n_items = len(item_ratings)\n",
    "    per_item_positives = []\n",
    "\n",
    "    item_interactions = set()\n",
    "    for user, rating in item_ratings[j]:\n",
    "        item_interactions.add(user)\n",
    "\n",
    "    for i in range(n_items):\n",
    "        positives = set()\n",
    "        for user, rating in item_ratings[i]:\n",
    "            if rating == 1 and user in item_interactions:\n",
    "                positives.add(user)\n",
    "        per_item_positives.append(positives)\n",
    "\n",
    "    w = np.zeros(n_items)\n",
    "    non_zero_items = set()\n",
    "    for _ in range(n_iter):\n",
    "        for k in range(n_items):\n",
    "            if k == j:\n",
    "                continue\n",
    "\n",
    "            score = len(per_item_positives[k] & per_item_positives[j]) - l1_reg\n",
    "            for i in non_zero_items:\n",
    "              if i == k:\n",
    "                continue\n",
    "\n",
    "              score -= w[i] * len(per_item_positives[i] & per_item_positives[k])\n",
    "\n",
    "              if score < 0:\n",
    "                break\n",
    "\n",
    "            score /= len(per_item_positives[k]) + l2_reg\n",
    "            score = max(0.0, score)\n",
    "\n",
    "            w[k] = score\n",
    "            if w[k] > 1e-5:\n",
    "                non_zero_items.add(k)\n",
    "\n",
    "    non_zero_elements = {}\n",
    "    for i, value in enumerate(w):\n",
    "        assert value >= 0.0\n",
    "        if value > 0:\n",
    "            non_zero_elements[i] = value\n",
    "\n",
    "    return non_zero_elements"
   ],
   "metadata": {
    "collapsed": false
   }
  },
  {
   "cell_type": "code",
   "execution_count": null,
   "outputs": [],
   "source": [
    "def get_item_meta(item_id):\n",
    "    item_id = int(item_encoder.inverse_transform([item_id])[0])\n",
    "    return item_meta[item_meta['itemId'] == item_id].iloc[0].to_dict()\n",
    "\n",
    "\n",
    "def visualize_top(item_ratings_ind_nb, j, top=10):\n",
    "    weights = fit_one_item(item_ratings_ind_nb, j)\n",
    "    sorted_items = sorted(weights.items(), key=lambda x: x[1], reverse=True)[:top]\n",
    "\n",
    "    item_ids, weights = zip(*sorted_items)\n",
    "    items = map(get_item_meta, item_ids)\n",
    "    anchor_item = get_item_meta(j)\n",
    "\n",
    "    with pd.option_context('display.max_colwidth', 100):\n",
    "        display(pd.DataFrame({\n",
    "            anchor_item['title']: [item['title'] for item in items],\n",
    "            'score': weights\n",
    "        }))"
   ],
   "metadata": {
    "collapsed": false
   }
  },
  {
   "cell_type": "code",
   "execution_count": null,
   "outputs": [],
   "source": [
    "visualize_top(item_ratings_ind_nb, 50)"
   ],
   "metadata": {
    "collapsed": false
   }
  },
  {
   "cell_type": "markdown",
   "id": "5544dc69",
   "metadata": {
    "ExecuteTime": {
     "end_time": "2023-11-06T05:12:40.299803Z",
     "start_time": "2023-11-06T05:12:40.290403Z"
    }
   },
   "source": [
    "Conclusion:\n",
    "\n",
    "SLIM\n",
    "Основной недостаток SLIM — это относительная вычислительная сложность, так как не параллелиться.\n",
    "ALS\n",
    "Преимущества Метод эффективен для распределенных данных и хорошо параллелиться, так как можно считать независимо по каждой компоненте.\n",
    "ALS не эффективен при работе с неявными данными.\n",
    "Правильный подбор параметров алгоритма критичен для достижения высокой производительности и занимает продолжительное время\n",
    "iALS\n",
    "Преимущества: Метод позволяет предсказать неявные взаимодействия пользователей и айтемов.\n",
    "Недостатки: Подбор параметров сложнее из-за дополнительного параметра -- alpha.\n",
    "I2I\n",
    "Преимущества: Легок в реализации, хорош когда связь между объектами стабильна, легко масштабируется\n",
    "Недостатки: Проблема холодного старта и нестабильных данных"
   ]
  }
 ],
 "metadata": {
  "finalized": {
   "timestamp": 1686173501421,
   "trusted": false
  },
  "kernelspec": {
   "name": "python3",
   "language": "python",
   "display_name": "Python 3 (ipykernel)"
  },
  "language_info": {
   "codemirror_mode": {
    "name": "ipython",
    "version": 3
   },
   "file_extension": ".py",
   "mimetype": "text/x-python",
   "name": "python",
   "nbconvert_exporter": "python",
   "pygments_lexer": "ipython3",
   "version": "3.11.7"
  },
  "toc": {
   "base_numbering": 1,
   "nav_menu": {},
   "number_sections": true,
   "sideBar": true,
   "skip_h1_title": false,
   "title_cell": "Table of Contents",
   "title_sidebar": "Contents",
   "toc_cell": false,
   "toc_position": {
    "height": "calc(100% - 180px)",
    "left": "10px",
    "top": "150px",
    "width": "302.398px"
   },
   "toc_section_display": true,
   "toc_window_display": true
  }
 },
 "nbformat": 4,
 "nbformat_minor": 5
}
